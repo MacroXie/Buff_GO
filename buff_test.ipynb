{
 "cells": [
  {
   "cell_type": "markdown",
   "id": "8467fdf355d25ab9",
   "metadata": {
    "collapsed": false,
    "jupyter": {
     "outputs_hidden": false
    }
   },
   "source": [
    "# 请求BUFF和Steam的饰品价格"
   ]
  },
  {
   "cell_type": "markdown",
   "id": "825d7f9db4556737",
   "metadata": {
    "collapsed": false,
    "jupyter": {
     "outputs_hidden": false
    }
   },
   "source": [
    "## 安装环境"
   ]
  },
  {
   "cell_type": "code",
   "execution_count": 131,
   "id": "63b30176fdc1aaae",
   "metadata": {
    "ExecuteTime": {
     "end_time": "2023-09-07T10:59:07.655601200Z",
     "start_time": "2023-09-07T10:59:06.446440500Z"
    },
    "collapsed": false,
    "jupyter": {
     "outputs_hidden": false
    }
   },
   "outputs": [
    {
     "name": "stdout",
     "output_type": "stream",
     "text": [
      "Requirement already satisfied: requests in c:\\users\\xieho\\appdata\\local\\programs\\python\\python311\\lib\\site-packages (2.31.0)\n",
      "Requirement already satisfied: charset-normalizer<4,>=2 in c:\\users\\xieho\\appdata\\local\\programs\\python\\python311\\lib\\site-packages (from requests) (3.2.0)\n",
      "Requirement already satisfied: idna<4,>=2.5 in c:\\users\\xieho\\appdata\\local\\programs\\python\\python311\\lib\\site-packages (from requests) (3.4)\n",
      "Requirement already satisfied: urllib3<3,>=1.21.1 in c:\\users\\xieho\\appdata\\local\\programs\\python\\python311\\lib\\site-packages (from requests) (2.0.4)\n",
      "Requirement already satisfied: certifi>=2017.4.17 in c:\\users\\xieho\\appdata\\local\\programs\\python\\python311\\lib\\site-packages (from requests) (2023.7.22)\n",
      "Note: you may need to restart the kernel to use updated packages.\n"
     ]
    },
    {
     "name": "stderr",
     "output_type": "stream",
     "text": [
      "\n",
      "[notice] A new release of pip is available: 23.1.2 -> 23.2.1\n",
      "[notice] To update, run: python.exe -m pip install --upgrade pip\n"
     ]
    }
   ],
   "source": [
    "pip install requests"
   ]
  },
  {
   "cell_type": "code",
   "execution_count": 132,
   "id": "3977fbccc7d742cd",
   "metadata": {
    "ExecuteTime": {
     "end_time": "2023-09-07T10:59:08.889428700Z",
     "start_time": "2023-09-07T10:59:07.655601200Z"
    },
    "collapsed": false,
    "jupyter": {
     "outputs_hidden": false
    }
   },
   "outputs": [
    {
     "name": "stdout",
     "output_type": "stream",
     "text": [
      "Note: you may need to restart the kernel to use updated packages.\n"
     ]
    },
    {
     "name": "stderr",
     "output_type": "stream",
     "text": [
      "\n",
      "[notice] A new release of pip is available: 23.1.2 -> 23.2.1\n",
      "[notice] To update, run: python.exe -m pip install --upgrade pip\n"
     ]
    },
    {
     "name": "stdout",
     "output_type": "stream",
     "text": [
      "Requirement already satisfied: fake_useragent in c:\\users\\xieho\\appdata\\local\\programs\\python\\python311\\lib\\site-packages (1.2.1)\n"
     ]
    }
   ],
   "source": [
    "pip install fake_useragent"
   ]
  },
  {
   "cell_type": "markdown",
   "id": "6a1b9a5c2c07d14d",
   "metadata": {
    "collapsed": false,
    "jupyter": {
     "outputs_hidden": false
    }
   },
   "source": [
    "## 引入外部包"
   ]
  },
  {
   "cell_type": "code",
   "execution_count": 133,
   "id": "fbf27591b3947f97",
   "metadata": {
    "ExecuteTime": {
     "end_time": "2023-09-07T10:59:08.902159800Z",
     "start_time": "2023-09-07T10:59:08.890428600Z"
    },
    "collapsed": false,
    "jupyter": {
     "outputs_hidden": false
    }
   },
   "outputs": [],
   "source": [
    "import requests\n",
    "import datetime\n",
    "from fake_useragent import UserAgent"
   ]
  },
  {
   "cell_type": "markdown",
   "id": "d345e74199fd92c9",
   "metadata": {
    "collapsed": false,
    "jupyter": {
     "outputs_hidden": false
    }
   },
   "source": [
    "### 定于随机User Agent函数 随机客户端请求，避免BUFF拒绝访问"
   ]
  },
  {
   "cell_type": "code",
   "execution_count": 134,
   "id": "b0232215125ceb60",
   "metadata": {
    "ExecuteTime": {
     "end_time": "2023-09-07T10:59:08.902159800Z",
     "start_time": "2023-09-07T10:59:08.893544Z"
    },
    "collapsed": false,
    "jupyter": {
     "outputs_hidden": false
    }
   },
   "outputs": [],
   "source": [
    "def get_random_user_agent():\n",
    "    \"\"\"get random user agent.\"\"\"\n",
    "    user_agent = UserAgent()\n",
    "    return user_agent.random"
   ]
  },
  {
   "cell_type": "markdown",
   "id": "3b8551c56b4b3a77",
   "metadata": {
    "collapsed": false,
    "jupyter": {
     "outputs_hidden": false
    }
   },
   "source": [
    "### 定义获取饰品价格函数"
   ]
  },
  {
   "cell_type": "code",
   "execution_count": 135,
   "id": "d838550e016ba100",
   "metadata": {
    "ExecuteTime": {
     "end_time": "2023-09-07T10:59:08.902159800Z",
     "start_time": "2023-09-07T10:59:08.899517600Z"
    },
    "collapsed": false,
    "jupyter": {
     "outputs_hidden": false
    }
   },
   "outputs": [],
   "source": [
    "def getBuffData(item_code):\n",
    "    \"\"\"The method to get the data from the buff website.\"\"\"\n",
    "\n",
    "    headers = {\n",
    "        \"User-Agent\": get_random_user_agent(),\n",
    "    }\n",
    "\n",
    "    buff_url = f'https://buff.163.com/api/market/goods/sell_order?game=csgo&goods_id={item_code}&page_num=1&sort_by=default&mode=&allow_tradable_cooldown=1&_=1694073994211'\n",
    "\n",
    "    try:\n",
    "        response = requests.get(buff_url, headers=headers)\n",
    "        response_json = response.json()\n",
    "        return response_json\n",
    "    except Exception:\n",
    "        return Exception"
   ]
  },
  {
   "cell_type": "markdown",
   "id": "8d0b27ff32a7d17b",
   "metadata": {
    "collapsed": false,
    "jupyter": {
     "outputs_hidden": false
    }
   },
   "source": [
    "### 获取饰品价格"
   ]
  },
  {
   "cell_type": "code",
   "execution_count": 141,
   "id": "acf1855eda9987f2",
   "metadata": {
    "ExecuteTime": {
     "end_time": "2023-09-07T11:10:49.434032900Z",
     "start_time": "2023-09-07T11:10:49.428693600Z"
    },
    "collapsed": false,
    "jupyter": {
     "outputs_hidden": false
    }
   },
   "outputs": [],
   "source": [
    "# 2023年巴黎锦标赛竞争组印花胶囊\n",
    "item_code = 927991"
   ]
  },
  {
   "cell_type": "code",
   "execution_count": 142,
   "id": "4bead64bf9bc5bb2",
   "metadata": {
    "ExecuteTime": {
     "end_time": "2023-09-07T11:10:51.080462300Z",
     "start_time": "2023-09-07T11:10:50.772938600Z"
    },
    "collapsed": false,
    "jupyter": {
     "outputs_hidden": false
    }
   },
   "outputs": [],
   "source": [
    "buff_data = getBuffData(item_code)"
   ]
  },
  {
   "cell_type": "markdown",
   "id": "ff66403ddc834d79",
   "metadata": {
    "collapsed": false,
    "jupyter": {
     "outputs_hidden": false
    }
   },
   "source": [
    "### 打印BUFF返回内容"
   ]
  },
  {
   "cell_type": "code",
   "execution_count": 143,
   "id": "f91d61fe341220c6",
   "metadata": {
    "ExecuteTime": {
     "end_time": "2023-09-07T11:10:53.120163300Z",
     "start_time": "2023-09-07T11:10:53.113656200Z"
    },
    "collapsed": false,
    "jupyter": {
     "outputs_hidden": false
    }
   },
   "outputs": [
    {
     "name": "stdout",
     "output_type": "stream",
     "text": [
      "{'code': 'OK', 'data': {'fop_str': '?fop=imageView/2/w/245/h/230', 'goods_infos': {'927991': {'appid': 730, 'can_3d_inspect': False, 'can_inspect': False, 'description': None, 'game': 'csgo', 'goods_id': 927991, 'icon_url': 'https://g.fp.ps.netease.com/market/file/645446ca36cc4b42a7ebbeb2ObGzhWZ504', 'item_id': None, 'market_hash_name': 'Paris 2023 Contenders Sticker Capsule', 'market_min_price': '0', 'name': '2023年巴黎锦标赛竞争组印花胶囊', 'original_icon_url': 'https://g.fp.ps.netease.com/market/file/645446c7969f8944d94407cddlakNxvW04', 'short_name': '2023年巴黎锦标赛竞争组印花胶囊', 'steam_price': '0.26', 'steam_price_cny': '1.9', 'tags': {'category': {'category': 'category', 'id': 18287, 'internal_name': 'sticker_tournament21', 'localized_name': 'sticker_tournament21'}, 'category_group': {'category': 'category_group', 'id': 657, 'internal_name': 'other', 'localized_name': '其他'}, 'quality': {'category': 'quality', 'id': 516, 'internal_name': 'normal', 'localized_name': '普通'}, 'rarity': {'category': 'rarity', 'id': 594, 'internal_name': 'common', 'localized_name': '普通级'}, 'stickercapsule': {'category': 'stickercapsule', 'internal_name': 'crate_sticker_pack_paris2023_contenders_collection', 'localized_name': 'crate_sticker_pack_paris2023_contenders_collection'}, 'tournament': {'category': 'tournament', 'internal_name': 'tournament21', 'localized_name': 'tournament21'}, 'type': {'category': 'type', 'id': 572, 'internal_name': 'csgo_type_weaponcase', 'localized_name': '武器箱'}, 'weaponcase': {'category': 'weaponcase', 'id': 18283, 'internal_name': 'Paris 2023 Contenders Sticker Capsule', 'localized_name': 'paris 2023 contenders sticker capsule'}}}}, 'has_market_stores': {'U1098024239': True, 'U1100658110': True}, 'items': [{'allow_bargain': True, 'appid': 730, 'asset_info': {'action_link': '', 'appid': 730, 'assetid': '32840314161', 'classid': '5327976132', 'contextid': 2, 'goods_id': 927991, 'has_tradable_cooldown': False, 'info': {'fraudwarnings': None, 'icon_url': 'https://g.fp.ps.netease.com/market/file/645446ca36cc4b42a7ebbeb2ObGzhWZ504', 'original_icon_url': 'https://g.fp.ps.netease.com/market/file/645446c7969f8944d94407cddlakNxvW04', 'stickers': [], 'tournament_tags': [{'category': 'tournament', 'internal_name': 'tournament21', 'localized_name': '2023年 BLAST.tv 巴黎锦标赛'}]}, 'instanceid': '143865972', 'paintwear': '', 'tradable_cooldown_text': '', 'tradable_unfrozen_time': None}, 'background_image_url': 'https://buff.163.com/static/images/item_bg.png', 'bookmarked': False, 'can_bargain': True, 'can_use_inspect_trn_url': False, 'cannot_bargain_reason': '', 'created_at': 1694084741, 'description': '', 'featured': 0, 'fee': '0', 'game': 'csgo', 'goods_id': 927991, 'id': '0692058236-6989-137419444', 'img_src': 'https://g.fp.ps.netease.com/market/file/645446ca36cc4b42a7ebbeb2ObGzhWZ504', 'income': '0', 'lowest_bargain_price': '1.4', 'mode': 5, 'price': '1.45', 'recent_average_duration': 503.0, 'recent_deliver_rate': 1.0, 'state': 1, 'supported_pay_methods': [3, 10, 11], 'tradable_cooldown': None, 'updated_at': 1694084741, 'user_id': 'U1100658110'}, {'allow_bargain': True, 'appid': 730, 'asset_info': {'action_link': '', 'appid': 730, 'assetid': '32508037851', 'classid': '5316842946', 'contextid': 2, 'goods_id': 927991, 'has_tradable_cooldown': False, 'info': {'fraudwarnings': None, 'icon_url': 'https://g.fp.ps.netease.com/market/file/645446ca36cc4b42a7ebbeb2ObGzhWZ504', 'original_icon_url': 'https://g.fp.ps.netease.com/market/file/645446c7969f8944d94407cddlakNxvW04', 'stickers': [], 'tournament_tags': [{'category': 'tournament', 'internal_name': 'tournament21', 'localized_name': '2023年 BLAST.tv 巴黎锦标赛'}]}, 'instanceid': '143865972', 'paintwear': '', 'tradable_cooldown_text': '', 'tradable_unfrozen_time': None}, 'background_image_url': 'https://buff.163.com/static/images/item_bg.png', 'bookmarked': False, 'can_bargain': True, 'can_use_inspect_trn_url': False, 'cannot_bargain_reason': '', 'created_at': 1694084741, 'description': '', 'featured': 0, 'fee': '0', 'game': 'csgo', 'goods_id': 927991, 'id': '0692058231-6989-137419444', 'img_src': 'https://g.fp.ps.netease.com/market/file/645446ca36cc4b42a7ebbeb2ObGzhWZ504', 'income': '0', 'lowest_bargain_price': '1.4', 'mode': 5, 'price': '1.45', 'recent_average_duration': 360.0, 'recent_deliver_rate': 1.0, 'state': 1, 'supported_pay_methods': [3, 1, 6, 7, 10, 11], 'tradable_cooldown': None, 'updated_at': 1694084741, 'user_id': 'U1098024239'}, {'allow_bargain': True, 'appid': 730, 'asset_info': {'action_link': '', 'appid': 730, 'assetid': '32840314160', 'classid': '5327976132', 'contextid': 2, 'goods_id': 927991, 'has_tradable_cooldown': False, 'info': {'fraudwarnings': None, 'icon_url': 'https://g.fp.ps.netease.com/market/file/645446ca36cc4b42a7ebbeb2ObGzhWZ504', 'original_icon_url': 'https://g.fp.ps.netease.com/market/file/645446c7969f8944d94407cddlakNxvW04', 'stickers': [], 'tournament_tags': [{'category': 'tournament', 'internal_name': 'tournament21', 'localized_name': '2023年 BLAST.tv 巴黎锦标赛'}]}, 'instanceid': '143865972', 'paintwear': '', 'tradable_cooldown_text': '', 'tradable_unfrozen_time': None}, 'background_image_url': 'https://buff.163.com/static/images/item_bg.png', 'bookmarked': False, 'can_bargain': True, 'can_use_inspect_trn_url': False, 'cannot_bargain_reason': '', 'created_at': 1694084741, 'description': '', 'featured': 0, 'fee': '0', 'game': 'csgo', 'goods_id': 927991, 'id': '0692058224-6989-137419444', 'img_src': 'https://g.fp.ps.netease.com/market/file/645446ca36cc4b42a7ebbeb2ObGzhWZ504', 'income': '0', 'lowest_bargain_price': '1.4', 'mode': 5, 'price': '1.45', 'recent_average_duration': 503.0, 'recent_deliver_rate': 1.0, 'state': 1, 'supported_pay_methods': [3, 10, 11], 'tradable_cooldown': None, 'updated_at': 1694084741, 'user_id': 'U1100658110'}, {'allow_bargain': True, 'appid': 730, 'asset_info': {'action_link': '', 'appid': 730, 'assetid': '32508037833', 'classid': '5316842946', 'contextid': 2, 'goods_id': 927991, 'has_tradable_cooldown': False, 'info': {'fraudwarnings': None, 'icon_url': 'https://g.fp.ps.netease.com/market/file/645446ca36cc4b42a7ebbeb2ObGzhWZ504', 'original_icon_url': 'https://g.fp.ps.netease.com/market/file/645446c7969f8944d94407cddlakNxvW04', 'stickers': [], 'tournament_tags': [{'category': 'tournament', 'internal_name': 'tournament21', 'localized_name': '2023年 BLAST.tv 巴黎锦标赛'}]}, 'instanceid': '143865972', 'paintwear': '', 'tradable_cooldown_text': '', 'tradable_unfrozen_time': None}, 'background_image_url': 'https://buff.163.com/static/images/item_bg.png', 'bookmarked': False, 'can_bargain': True, 'can_use_inspect_trn_url': False, 'cannot_bargain_reason': '', 'created_at': 1694084741, 'description': '', 'featured': 0, 'fee': '0', 'game': 'csgo', 'goods_id': 927991, 'id': '0692058250-6989-137419444', 'img_src': 'https://g.fp.ps.netease.com/market/file/645446ca36cc4b42a7ebbeb2ObGzhWZ504', 'income': '0', 'lowest_bargain_price': '1.4', 'mode': 5, 'price': '1.45', 'recent_average_duration': 360.0, 'recent_deliver_rate': 1.0, 'state': 1, 'supported_pay_methods': [3, 1, 6, 7, 10, 11], 'tradable_cooldown': None, 'updated_at': 1694084741, 'user_id': 'U1098024239'}, {'allow_bargain': True, 'appid': 730, 'asset_info': {'action_link': '', 'appid': 730, 'assetid': '32840314159', 'classid': '5327976132', 'contextid': 2, 'goods_id': 927991, 'has_tradable_cooldown': False, 'info': {'fraudwarnings': None, 'icon_url': 'https://g.fp.ps.netease.com/market/file/645446ca36cc4b42a7ebbeb2ObGzhWZ504', 'original_icon_url': 'https://g.fp.ps.netease.com/market/file/645446c7969f8944d94407cddlakNxvW04', 'stickers': [], 'tournament_tags': [{'category': 'tournament', 'internal_name': 'tournament21', 'localized_name': '2023年 BLAST.tv 巴黎锦标赛'}]}, 'instanceid': '143865972', 'paintwear': '', 'tradable_cooldown_text': '', 'tradable_unfrozen_time': None}, 'background_image_url': 'https://buff.163.com/static/images/item_bg.png', 'bookmarked': False, 'can_bargain': True, 'can_use_inspect_trn_url': False, 'cannot_bargain_reason': '', 'created_at': 1694084741, 'description': '', 'featured': 0, 'fee': '0', 'game': 'csgo', 'goods_id': 927991, 'id': '0692058251-6989-137419444', 'img_src': 'https://g.fp.ps.netease.com/market/file/645446ca36cc4b42a7ebbeb2ObGzhWZ504', 'income': '0', 'lowest_bargain_price': '1.4', 'mode': 5, 'price': '1.45', 'recent_average_duration': 503.0, 'recent_deliver_rate': 1.0, 'state': 1, 'supported_pay_methods': [3, 10, 11], 'tradable_cooldown': None, 'updated_at': 1694084741, 'user_id': 'U1100658110'}, {'allow_bargain': True, 'appid': 730, 'asset_info': {'action_link': '', 'appid': 730, 'assetid': '32508037818', 'classid': '5316842946', 'contextid': 2, 'goods_id': 927991, 'has_tradable_cooldown': False, 'info': {'fraudwarnings': None, 'icon_url': 'https://g.fp.ps.netease.com/market/file/645446ca36cc4b42a7ebbeb2ObGzhWZ504', 'original_icon_url': 'https://g.fp.ps.netease.com/market/file/645446c7969f8944d94407cddlakNxvW04', 'stickers': [], 'tournament_tags': [{'category': 'tournament', 'internal_name': 'tournament21', 'localized_name': '2023年 BLAST.tv 巴黎锦标赛'}]}, 'instanceid': '143865972', 'paintwear': '', 'tradable_cooldown_text': '', 'tradable_unfrozen_time': None}, 'background_image_url': 'https://buff.163.com/static/images/item_bg.png', 'bookmarked': False, 'can_bargain': True, 'can_use_inspect_trn_url': False, 'cannot_bargain_reason': '', 'created_at': 1694084741, 'description': '', 'featured': 0, 'fee': '0', 'game': 'csgo', 'goods_id': 927991, 'id': '0692058268-6989-137419444', 'img_src': 'https://g.fp.ps.netease.com/market/file/645446ca36cc4b42a7ebbeb2ObGzhWZ504', 'income': '0', 'lowest_bargain_price': '1.4', 'mode': 5, 'price': '1.45', 'recent_average_duration': 360.0, 'recent_deliver_rate': 1.0, 'state': 1, 'supported_pay_methods': [3, 1, 6, 7, 10, 11], 'tradable_cooldown': None, 'updated_at': 1694084741, 'user_id': 'U1098024239'}, {'allow_bargain': True, 'appid': 730, 'asset_info': {'action_link': '', 'appid': 730, 'assetid': '32508037791', 'classid': '5316842946', 'contextid': 2, 'goods_id': 927991, 'has_tradable_cooldown': False, 'info': {'fraudwarnings': None, 'icon_url': 'https://g.fp.ps.netease.com/market/file/645446ca36cc4b42a7ebbeb2ObGzhWZ504', 'original_icon_url': 'https://g.fp.ps.netease.com/market/file/645446c7969f8944d94407cddlakNxvW04', 'stickers': [], 'tournament_tags': [{'category': 'tournament', 'internal_name': 'tournament21', 'localized_name': '2023年 BLAST.tv 巴黎锦标赛'}]}, 'instanceid': '143865972', 'paintwear': '', 'tradable_cooldown_text': '', 'tradable_unfrozen_time': None}, 'background_image_url': 'https://buff.163.com/static/images/item_bg.png', 'bookmarked': False, 'can_bargain': True, 'can_use_inspect_trn_url': False, 'cannot_bargain_reason': '', 'created_at': 1694084741, 'description': '', 'featured': 0, 'fee': '0', 'game': 'csgo', 'goods_id': 927991, 'id': '0692058263-6989-137419444', 'img_src': 'https://g.fp.ps.netease.com/market/file/645446ca36cc4b42a7ebbeb2ObGzhWZ504', 'income': '0', 'lowest_bargain_price': '1.4', 'mode': 5, 'price': '1.45', 'recent_average_duration': 360.0, 'recent_deliver_rate': 1.0, 'state': 1, 'supported_pay_methods': [3, 1, 6, 7, 10, 11], 'tradable_cooldown': None, 'updated_at': 1694084741, 'user_id': 'U1098024239'}, {'allow_bargain': True, 'appid': 730, 'asset_info': {'action_link': '', 'appid': 730, 'assetid': '32840314157', 'classid': '5327976132', 'contextid': 2, 'goods_id': 927991, 'has_tradable_cooldown': False, 'info': {'fraudwarnings': None, 'icon_url': 'https://g.fp.ps.netease.com/market/file/645446ca36cc4b42a7ebbeb2ObGzhWZ504', 'original_icon_url': 'https://g.fp.ps.netease.com/market/file/645446c7969f8944d94407cddlakNxvW04', 'stickers': [], 'tournament_tags': [{'category': 'tournament', 'internal_name': 'tournament21', 'localized_name': '2023年 BLAST.tv 巴黎锦标赛'}]}, 'instanceid': '143865972', 'paintwear': '', 'tradable_cooldown_text': '', 'tradable_unfrozen_time': None}, 'background_image_url': 'https://buff.163.com/static/images/item_bg.png', 'bookmarked': False, 'can_bargain': True, 'can_use_inspect_trn_url': False, 'cannot_bargain_reason': '', 'created_at': 1694084741, 'description': '', 'featured': 0, 'fee': '0', 'game': 'csgo', 'goods_id': 927991, 'id': '0692058259-6989-137419444', 'img_src': 'https://g.fp.ps.netease.com/market/file/645446ca36cc4b42a7ebbeb2ObGzhWZ504', 'income': '0', 'lowest_bargain_price': '1.4', 'mode': 5, 'price': '1.45', 'recent_average_duration': 503.0, 'recent_deliver_rate': 1.0, 'state': 1, 'supported_pay_methods': [3, 10, 11], 'tradable_cooldown': None, 'updated_at': 1694084741, 'user_id': 'U1100658110'}, {'allow_bargain': True, 'appid': 730, 'asset_info': {'action_link': '', 'appid': 730, 'assetid': '32508037782', 'classid': '5316842946', 'contextid': 2, 'goods_id': 927991, 'has_tradable_cooldown': False, 'info': {'fraudwarnings': None, 'icon_url': 'https://g.fp.ps.netease.com/market/file/645446ca36cc4b42a7ebbeb2ObGzhWZ504', 'original_icon_url': 'https://g.fp.ps.netease.com/market/file/645446c7969f8944d94407cddlakNxvW04', 'stickers': [], 'tournament_tags': [{'category': 'tournament', 'internal_name': 'tournament21', 'localized_name': '2023年 BLAST.tv 巴黎锦标赛'}]}, 'instanceid': '143865972', 'paintwear': '', 'tradable_cooldown_text': '', 'tradable_unfrozen_time': None}, 'background_image_url': 'https://buff.163.com/static/images/item_bg.png', 'bookmarked': False, 'can_bargain': True, 'can_use_inspect_trn_url': False, 'cannot_bargain_reason': '', 'created_at': 1694084741, 'description': '', 'featured': 0, 'fee': '0', 'game': 'csgo', 'goods_id': 927991, 'id': '0692058277-6989-137419444', 'img_src': 'https://g.fp.ps.netease.com/market/file/645446ca36cc4b42a7ebbeb2ObGzhWZ504', 'income': '0', 'lowest_bargain_price': '1.4', 'mode': 5, 'price': '1.45', 'recent_average_duration': 360.0, 'recent_deliver_rate': 1.0, 'state': 1, 'supported_pay_methods': [3, 1, 6, 7, 10, 11], 'tradable_cooldown': None, 'updated_at': 1694084741, 'user_id': 'U1098024239'}, {'allow_bargain': True, 'appid': 730, 'asset_info': {'action_link': '', 'appid': 730, 'assetid': '32840314156', 'classid': '5327976132', 'contextid': 2, 'goods_id': 927991, 'has_tradable_cooldown': False, 'info': {'fraudwarnings': None, 'icon_url': 'https://g.fp.ps.netease.com/market/file/645446ca36cc4b42a7ebbeb2ObGzhWZ504', 'original_icon_url': 'https://g.fp.ps.netease.com/market/file/645446c7969f8944d94407cddlakNxvW04', 'stickers': [], 'tournament_tags': [{'category': 'tournament', 'internal_name': 'tournament21', 'localized_name': '2023年 BLAST.tv 巴黎锦标赛'}]}, 'instanceid': '143865972', 'paintwear': '', 'tradable_cooldown_text': '', 'tradable_unfrozen_time': None}, 'background_image_url': 'https://buff.163.com/static/images/item_bg.png', 'bookmarked': False, 'can_bargain': True, 'can_use_inspect_trn_url': False, 'cannot_bargain_reason': '', 'created_at': 1694084741, 'description': '', 'featured': 0, 'fee': '0', 'game': 'csgo', 'goods_id': 927991, 'id': '0692058273-6989-137419444', 'img_src': 'https://g.fp.ps.netease.com/market/file/645446ca36cc4b42a7ebbeb2ObGzhWZ504', 'income': '0', 'lowest_bargain_price': '1.4', 'mode': 5, 'price': '1.45', 'recent_average_duration': 503.0, 'recent_deliver_rate': 1.0, 'state': 1, 'supported_pay_methods': [3, 10, 11], 'tradable_cooldown': None, 'updated_at': 1694084741, 'user_id': 'U1100658110'}], 'page_num': 1, 'page_size': 10, 'preview_screenshots': {}, 'show_game_cms_icon': False, 'show_pay_method_icon': True, 'sort_by': 'price.asc', 'src_url_background': 'https://buff.163.com/static/images/item_bg.png', 'total_count': 91, 'total_page': 10, 'user_infos': {'U1098024239': {'avatar': 'https://g.fp.ps.netease.com/market/file/5c4994af8b7427196aca7aeblbTq8TJS02', 'avatar_safe': 'https://g.fp.ps.netease.com/market/file/5c4994af8b7427196aca7aeblbTq8TJS02', 'is_auto_accept': False, 'is_premium_vip': True, 'nickname': 'U03675087745', 'seller_level': 0, 'shop_id': '1098024239', 'user_id': 'U1098024239', 'v_types': ['premium']}, 'U1100658110': {'avatar': 'https://market.fp.ps.netease.com/file/646d8df73f043c36a8e46c9ekrfzHyCF04', 'avatar_safe': 'https://market.fp.ps.netease.com/file/646d8df73f043c36a8e46c9ekrfzHyCF04', 'is_auto_accept': False, 'is_premium_vip': True, 'nickname': '不赚钱003', 'seller_level': 0, 'shop_id': '1100658110', 'user_id': 'U1100658110', 'v_types': ['premium']}}}, 'msg': None}\n"
     ]
    }
   ],
   "source": [
    "print(buff_data)"
   ]
  },
  {
   "cell_type": "markdown",
   "id": "f05266f1478731f",
   "metadata": {
    "collapsed": false,
    "jupyter": {
     "outputs_hidden": false
    }
   },
   "source": [
    "### 处理BUFF返回内容"
   ]
  },
  {
   "cell_type": "code",
   "execution_count": 144,
   "id": "a7f08c205cdb17df",
   "metadata": {
    "ExecuteTime": {
     "end_time": "2023-09-07T11:10:53.601287300Z",
     "start_time": "2023-09-07T11:10:53.592779Z"
    },
    "collapsed": false,
    "jupyter": {
     "outputs_hidden": false
    }
   },
   "outputs": [],
   "source": [
    "def process_buff_data(buff_data):\n",
    "    base_data = buff_data['data']['goods_infos']\n",
    "    current_datetime = datetime.datetime.now()\n",
    "    \n",
    "    item_data = {\n",
    "        'time': current_datetime.strftime(\"%Y-%m-%d %H:%M:%S\"),\n",
    "        'goods_id': next(iter(base_data)),\n",
    "        'name': base_data[f'{next(iter(base_data))}']['name'],\n",
    "        'steam_price': base_data[f'{index}']['steam_price_cny'],\n",
    "        'buff_price': buff_data['data']['items'][0]['price'],\n",
    "        'lowest_bargain_price': buff_data[\"data\"][\"items\"][0][\"lowest_bargain_price\"]\n",
    "    }\n",
    "    return item_data"
   ]
  },
  {
   "cell_type": "markdown",
   "id": "2fe4dcd51e914471",
   "metadata": {
    "collapsed": false,
    "jupyter": {
     "outputs_hidden": false
    }
   },
   "source": [
    "### 打印处理后的BUFF返回内容"
   ]
  },
  {
   "cell_type": "code",
   "execution_count": 145,
   "id": "da60d8bc674ad77b",
   "metadata": {
    "ExecuteTime": {
     "end_time": "2023-09-07T11:10:53.903547800Z",
     "start_time": "2023-09-07T11:10:53.885833300Z"
    },
    "collapsed": false,
    "jupyter": {
     "outputs_hidden": false
    }
   },
   "outputs": [
    {
     "name": "stdout",
     "output_type": "stream",
     "text": [
      "{'time': '2023-09-07 19:10:53', 'goods_id': '927991', 'name': '2023年巴黎锦标赛竞争组印花胶囊', 'steam_price': '1.9', 'buff_price': '1.45', 'lowest_bargain_price': '1.4'}\n"
     ]
    }
   ],
   "source": [
    "info =  process_buff_data(buff_data)\n",
    "print(info)"
   ]
  }
 ],
 "metadata": {
  "kernelspec": {
   "display_name": "Python 3 (ipykernel)",
   "language": "python",
   "name": "python3"
  },
  "language_info": {
   "codemirror_mode": {
    "name": "ipython",
    "version": 3
   },
   "file_extension": ".py",
   "mimetype": "text/x-python",
   "name": "python",
   "nbconvert_exporter": "python",
   "pygments_lexer": "ipython3",
   "version": "3.11.4"
  }
 },
 "nbformat": 4,
 "nbformat_minor": 5
}
